{
 "cells": [
  {
   "cell_type": "markdown",
   "id": "5df049c7",
   "metadata": {},
   "source": [
    "# Step 1: Setup\n",
    "\n",
    "Import libraries and initialize MLflow experiment."
   ]
  },
  {
   "cell_type": "code",
   "execution_count": null,
   "id": "33dd8ed8",
   "metadata": {},
   "outputs": [],
   "source": [
    "import pandas as pd\n",
    "import numpy as np\n",
    "from sklearn.linear_model import LinearRegression\n",
    "from sklearn.metrics import mean_absolute_error, mean_squared_error, r2_score\n",
    "from sklearn.model_selection import train_test_split\n",
    "import mlflow\n",
    "import mlflow.sklearn\n",
    "\n",
    "# Initialize MLflow experiment\n",
    "mlflow.set_experiment(\"FPL_Baseline_Regression\")"
   ]
  },
  {
   "cell_type": "markdown",
   "id": "e2aa0973",
   "metadata": {},
   "source": [
    "# Step 2: Data Loading & Inspection\n",
    "\n",
    "Load the dataset and inspect its structure."
   ]
  },
  {
   "cell_type": "code",
   "execution_count": null,
   "id": "dbb16869",
   "metadata": {},
   "outputs": [],
   "source": [
    "# Load the dataset\n",
    "df = pd.read_csv('/mnt/data/dataset_ver3.2.5.csv')\n",
    "\n",
    "# Inspect the data\n",
    "df.info()\n",
    "df.head()"
   ]
  },
  {
   "cell_type": "markdown",
   "id": "12dfd13f",
   "metadata": {},
   "source": [
    "# Step 3: Preprocessing\n",
    "\n",
    "Parse list-like columns, convert types, and handle missing values."
   ]
  },
  {
   "cell_type": "code",
   "execution_count": null,
   "id": "70d70866",
   "metadata": {},
   "outputs": [],
   "source": [
    "from ast import literal_eval\n",
    "\n",
    "# Columns to parse\n",
    "list_cols = ['Pos', 'Opposition', 'Start']\n",
    "\n",
    "# Apply literal_eval to convert string representations to lists, then extract first element\n",
    "for col in list_cols:\n",
    "    df[col] = df[col].apply(lambda x: literal_eval(x)[0] if isinstance(x, str) else x[0] if isinstance(x, list) else x)\n",
    "\n",
    "# Convert percentage and numeric columns to float\n",
    "df['Ownership, %'] = df['Ownership, %'].str.rstrip('%').astype(float)\n",
    "df['Price'] = df['Price'].astype(float)\n",
    "df['Min'] = df['Min'].astype(float)\n",
    "\n",
    "# Drop rows with missing target or essential features\n",
    "df = df.dropna(subset=['Points', 'Min', 'GlsPrev', 'AstPrev', 'CSPrev', 'PrevPoints'])\n",
    "\n",
    "# Confirm preprocessing\n",
    "df.info()"
   ]
  },
  {
   "cell_type": "markdown",
   "id": "06a2c09e",
   "metadata": {},
   "source": [
    "# Step 4: Feature Engineering (Baseline)\n",
    "\n",
    "Create baseline features and target variable."
   ]
  },
  {
   "cell_type": "code",
   "execution_count": null,
   "id": "fa28cd7d",
   "metadata": {},
   "outputs": [],
   "source": [
    "# Baseline feature list\n",
    "baseline_features = ['Min', 'GlsPrev', 'AstPrev', 'CSPrev', 'PrevPoints', 'Price', 'Ownership, %', 'Selected', 'Pos', 'Team', 'Opposition']\n",
    "\n",
    "# Select features and target\n",
    "X = df[baseline_features].copy()\n",
    "y = df['Points']\n",
    "\n",
    "# One-hot encode categorical features\n",
    "X = pd.get_dummies(X, columns=['Pos', 'Team', 'Opposition'], drop_first=True)\n",
    "\n",
    "# Review feature set\n",
    "X.head()"
   ]
  }
 ],
 "metadata": {},
 "nbformat": 4,
 "nbformat_minor": 5
}
